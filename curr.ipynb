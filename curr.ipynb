{
 "cells": [
  {
   "cell_type": "code",
   "execution_count": null,
   "metadata": {},
   "outputs": [],
   "source": [
    "import csv\n",
    "currencies = list(csv.DictReader(open('forex.csv','r'),delimiter=','))\n",
    " \n",
    "\n",
    "# This gets currencies from the most recent year only.\n",
    "current = currencies[-1]\n",
    "\n",
    "# Convert a list of tuple to dictionary\n",
    "current_dict = dict(current)\n",
    "\n",
    "current_dict"
   ]
  }
 ],
 "metadata": {
  "kernelspec": {
   "display_name": "Python 3",
   "language": "python",
   "name": "python3"
  },
  "language_info": {
   "codemirror_mode": {
    "name": "ipython",
    "version": 3
   },
   "file_extension": ".py",
   "mimetype": "text/x-python",
   "name": "python",
   "nbconvert_exporter": "python",
   "pygments_lexer": "ipython3",
   "version": "3.7.4"
  }
 },
 "nbformat": 4,
 "nbformat_minor": 4
}
