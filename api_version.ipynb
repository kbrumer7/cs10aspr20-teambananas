{
 "cells": [
  {
   "cell_type": "code",
   "execution_count": null,
   "metadata": {},
   "outputs": [],
   "source": [
    "import csv\n",
    "abbreviations = list(csv.DictReader(open('abrreviations.csv','r'),delimiter=','))\n",
    "abbreviations"
   ]
  },
  {
   "cell_type": "code",
   "execution_count": 15,
   "metadata": {},
   "outputs": [
    {
     "name": "stdout",
     "output_type": "stream",
     "text": [
      "{'GBP': 0.809054937, 'HKD': 7.7500690163, 'IDR': 15583.9974233919, 'ILS': 3.5428361093, 'DKK': 6.8638078587, 'INR': 76.5330818073, 'CHF': 0.9683445293, 'MXN': 24.2840710408, 'CZK': 25.3372595933, 'SGD': 1.4270727892, 'THB': 32.369559216, 'HRK': 6.9660439864, 'EUR': 0.9202171713, 'MYR': 4.3652341953, 'NOK': 10.7458360173, 'CNY': 7.0823594368, 'BGN': 1.7997607435, 'PHP': 50.7002852673, 'PLN': 4.1730928499, 'ZAR': 18.8104352627, 'CAD': 1.4148339008, 'ISK': 145.9464433606, 'BRL': 5.3249286832, 'RON': 4.4530229134, 'NZD': 1.6747952517, 'TRY': 6.9943866753, 'JPY': 107.6746112082, 'RUB': 76.5584798012, 'KRW': 1232.77813564, 'USD': 1.0, 'AUD': 1.5826815128, 'HUF': 326.7783196834, 'SEK': 10.069292353}\n"
     ]
    }
   ],
   "source": [
    "import requests\n",
    "import json\n",
    "currency_exchange = requests.get('https://api.ratesapi.io/api/latest?base=USD')\n",
    "currency_exchange = currency_exchange.text\n",
    "currency_exchange = json.loads(currency_exchange)\n",
    "\"\"\"take out base USD and rates\"\"\"\n",
    "currency_exchange = currency_exchange['rates']\n",
    "print(currency_exchange)"
   ]
  },
  {
   "cell_type": "code",
   "execution_count": 14,
   "metadata": {},
   "outputs": [
    {
     "name": "stdout",
     "output_type": "stream",
     "text": [
      "Convert your currency!!\n"
     ]
    },
    {
     "name": "stdin",
     "output_type": "stream",
     "text": [
      "What is the currency that you currently have? CZK\n",
      "How much do you have? 100\n",
      "What currency would you like to convert it to? IDR\n"
     ]
    },
    {
     "name": "stdout",
     "output_type": "stream",
     "text": [
      "61506.2468\n"
     ]
    }
   ],
   "source": [
    "\"\"\"Ask for their current currency\"\"\"\n",
    "print(\"Convert your currency!!\")\n",
    "current_currency=input(\"What is the country of the currency that you currently have?\")\n",
    "for i in abbreviations:\n",
    "    if current_currency.upper() == (i['Country']).upper() or current_currency.upper() == (i['Currency']).upper():\n",
    "        code = i['Code']\n",
    "        print(code)\n",
    "current_amount=input(\"How much do you have?\")\n",
    "for a in currency_exchange:\n",
    "    if code in a:\n",
    "        unit_dollar=currency_exchange[a]\n",
    "current_dollar=float(current_amount)/float(unit_dollar)\n",
    "goal_currency=input(\"What country's currency would you like to convert it to?\")\n",
    "for w in abbreviations:\n",
    "    if goal_currency.upper() == (w['Country']).upper() or goal_currency.upper() == (w['Currency']).upper():\n",
    "        goal_code = w['Code']\n",
    "        print(goal_code)\n",
    "for b in currency_exchange:\n",
    "    if goal_code in b:\n",
    "        goal_unit_dollar=currency_exchange[b]\n",
    "goal_amount=float(goal_unit_dollar)*float(current_dollar)\n",
    "goal_amount=round(goal_amount,4)\n",
    "print(goal_amount)"
   ]
  },
  {
   "cell_type": "code",
   "execution_count": null,
   "metadata": {},
   "outputs": [],
   "source": []
  },
  {
   "cell_type": "code",
   "execution_count": null,
   "metadata": {},
   "outputs": [],
   "source": []
  },
  {
   "cell_type": "code",
   "execution_count": null,
   "metadata": {},
   "outputs": [],
   "source": []
  }
 ],
 "metadata": {
  "kernelspec": {
   "display_name": "Python 3",
   "language": "python",
   "name": "python3"
  },
  "language_info": {
   "codemirror_mode": {
    "name": "ipython",
    "version": 3
   },
   "file_extension": ".py",
   "mimetype": "text/x-python",
   "name": "python",
   "nbconvert_exporter": "python",
   "pygments_lexer": "ipython3",
   "version": "3.7.4"
  }
 },
 "nbformat": 4,
 "nbformat_minor": 4
}
