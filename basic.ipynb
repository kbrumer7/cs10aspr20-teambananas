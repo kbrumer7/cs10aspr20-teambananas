{
 "cells": [
  {
   "cell_type": "code",
   "execution_count": 21,
   "metadata": {},
   "outputs": [
    {
     "data": {
      "text/plain": [
       "{'': '5216',\n",
       " 'Time Serie': '2019-12-31',\n",
       " 'AUSTRALIA - AUSTRALIAN DOLLAR/US$': '1.4225',\n",
       " 'EURO AREA - EURO/US$': '0.8907',\n",
       " 'NEW ZEALAND - NEW ZELAND DOLLAR/US$': '1.4826',\n",
       " 'UNITED KINGDOM - UNITED KINGDOM POUND/US$': '0.7536',\n",
       " 'BRAZIL - REAL/US$': '4.019',\n",
       " 'CANADA - CANADIAN DOLLAR/US$': '1.2962',\n",
       " 'CHINA - YUAN/US$': '6.9618',\n",
       " 'HONG KONG - HONG KONG DOLLAR/US$': '7.7894',\n",
       " 'INDIA - INDIAN RUPEE/US$': '71.36',\n",
       " 'KOREA - WON/US$': '1155.46',\n",
       " 'MEXICO - MEXICAN PESO/US$': '18.86',\n",
       " 'SOUTH AFRICA - RAND/US$': '13.973',\n",
       " 'SINGAPORE - SINGAPORE DOLLAR/US$': '1.3446',\n",
       " 'DENMARK - DANISH KRONE/US$': '6.6554',\n",
       " 'JAPAN - YEN/US$': '108.67',\n",
       " 'MALAYSIA - RINGGIT/US$': '4.0918',\n",
       " 'NORWAY - NORWEGIAN KRONE/US$': '8.7823',\n",
       " 'SWEDEN - KRONA/US$': '9.3425',\n",
       " 'SRI LANKA - SRI LANKAN RUPEE/US$': '181.3',\n",
       " 'SWITZERLAND - FRANC/US$': '0.9677',\n",
       " 'TAIWAN - NEW TAIWAN DOLLAR/US$': '29.91',\n",
       " 'THAILAND - BAHT/US$': '29.75',\n",
       " 'UNITED STATES - DOLLAR/US$': '1'}"
      ]
     },
     "execution_count": 21,
     "metadata": {},
     "output_type": "execute_result"
    }
   ],
   "source": [
    "import csv\n",
    "currencies = list(csv.DictReader(open('forex.csv','r'),delimiter=','))\n",
    " \n",
    "\n",
    "# This gets currencies from the most recent year only.\n",
    "current = currencies[-1]\n",
    "\n",
    "# Convert a list of tuple to dictionary\n",
    "current_dict = dict(current)\n",
    "current_dict.update({'UNITED STATES - DOLLAR/US$': '1'})\n",
    "\n",
    "current_dict"
   ]
  },
  {
   "cell_type": "code",
   "execution_count": 23,
   "metadata": {},
   "outputs": [
    {
     "name": "stdin",
     "output_type": "stream",
     "text": [
      "What is the currency that you currently have? dollar\n",
      "How much do you have? 100\n",
      "What currency would you like to convert it to? baht\n"
     ]
    },
    {
     "name": "stdout",
     "output_type": "stream",
     "text": [
      "2975.0\n"
     ]
    }
   ],
   "source": [
    "\"\"\"Ask for their current currency\"\"\"\n",
    "current_currency=input(\"What is the currency that you currently have?\")\n",
    "current_amount=input(\"How much do you have?\")\n",
    "for i in current_dict:\n",
    "    if current_currency.upper() in i:\n",
    "        unit_dollar=current_dict[i]\n",
    "current_dollar=float(current_amount)/float(unit_dollar)\n",
    "goal_currency=input(\"What currency would you like to convert it to?\")\n",
    "for b in current_dict:\n",
    "    if goal_currency.upper() in b:\n",
    "        goal_unit_dollar=current_dict[b]\n",
    "goal_amount=float(goal_unit_dollar)*float(current_dollar)\n",
    "goal_amount=round(goal_amount,4)\n",
    "print(goal_amount)\n"
   ]
  },
  {
   "cell_type": "code",
   "execution_count": null,
   "metadata": {},
   "outputs": [],
   "source": []
  },
  {
   "cell_type": "code",
   "execution_count": null,
   "metadata": {},
   "outputs": [],
   "source": []
  }
 ],
 "metadata": {
  "kernelspec": {
   "display_name": "Python 3",
   "language": "python",
   "name": "python3"
  },
  "language_info": {
   "codemirror_mode": {
    "name": "ipython",
    "version": 3
   },
   "file_extension": ".py",
   "mimetype": "text/x-python",
   "name": "python",
   "nbconvert_exporter": "python",
   "pygments_lexer": "ipython3",
   "version": "3.7.4"
  }
 },
 "nbformat": 4,
 "nbformat_minor": 4
}
